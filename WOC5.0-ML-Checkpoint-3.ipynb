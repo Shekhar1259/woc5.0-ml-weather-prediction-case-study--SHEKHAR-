{
 "cells": [
  {
   "cell_type": "code",
   "execution_count": 1,
   "id": "5c1f757f",
   "metadata": {},
   "outputs": [],
   "source": [
    "import numpy as np\n",
    "import pandas as pd\n"
   ]
  },
  {
   "cell_type": "code",
   "execution_count": 2,
   "id": "150c6e37",
   "metadata": {},
   "outputs": [],
   "source": [
    "s=pd.Series=([1,2,3,4,5,6])"
   ]
  },
  {
   "cell_type": "code",
   "execution_count": 3,
   "id": "4edef63b",
   "metadata": {},
   "outputs": [
    {
     "data": {
      "text/plain": [
       "[1, 2, 3, 4, 5, 6]"
      ]
     },
     "execution_count": 3,
     "metadata": {},
     "output_type": "execute_result"
    }
   ],
   "source": [
    "s"
   ]
  },
  {
   "cell_type": "code",
   "execution_count": 7,
   "id": "01ab8fba",
   "metadata": {},
   "outputs": [
    {
     "data": {
      "text/plain": [
       "DatetimeIndex(['2013-01-01', '2013-01-02', '2013-01-03', '2013-01-04',\n",
       "               '2013-01-05', '2013-01-06'],\n",
       "              dtype='datetime64[ns]', freq='D')"
      ]
     },
     "execution_count": 7,
     "metadata": {},
     "output_type": "execute_result"
    }
   ],
   "source": [
    "dates=pd.date_range(\"20130101\",periods=6)\n",
    "dates"
   ]
  },
  {
   "cell_type": "code",
   "execution_count": 8,
   "id": "a834b83f",
   "metadata": {},
   "outputs": [],
   "source": [
    "df=pd.DataFrame(np.random.randn(6,4),index=dates,columns=list(\"ABCD\"))"
   ]
  },
  {
   "cell_type": "code",
   "execution_count": 9,
   "id": "5a8ce31a",
   "metadata": {},
   "outputs": [
    {
     "data": {
      "text/html": [
       "<div>\n",
       "<style scoped>\n",
       "    .dataframe tbody tr th:only-of-type {\n",
       "        vertical-align: middle;\n",
       "    }\n",
       "\n",
       "    .dataframe tbody tr th {\n",
       "        vertical-align: top;\n",
       "    }\n",
       "\n",
       "    .dataframe thead th {\n",
       "        text-align: right;\n",
       "    }\n",
       "</style>\n",
       "<table border=\"1\" class=\"dataframe\">\n",
       "  <thead>\n",
       "    <tr style=\"text-align: right;\">\n",
       "      <th></th>\n",
       "      <th>A</th>\n",
       "      <th>B</th>\n",
       "      <th>C</th>\n",
       "      <th>D</th>\n",
       "    </tr>\n",
       "  </thead>\n",
       "  <tbody>\n",
       "    <tr>\n",
       "      <th>2013-01-01</th>\n",
       "      <td>-0.817309</td>\n",
       "      <td>1.291222</td>\n",
       "      <td>0.140912</td>\n",
       "      <td>0.905228</td>\n",
       "    </tr>\n",
       "    <tr>\n",
       "      <th>2013-01-02</th>\n",
       "      <td>0.739276</td>\n",
       "      <td>0.261658</td>\n",
       "      <td>-1.062873</td>\n",
       "      <td>0.852905</td>\n",
       "    </tr>\n",
       "    <tr>\n",
       "      <th>2013-01-03</th>\n",
       "      <td>0.284707</td>\n",
       "      <td>-0.550541</td>\n",
       "      <td>1.500442</td>\n",
       "      <td>-0.199554</td>\n",
       "    </tr>\n",
       "    <tr>\n",
       "      <th>2013-01-04</th>\n",
       "      <td>0.014254</td>\n",
       "      <td>-0.203678</td>\n",
       "      <td>2.322245</td>\n",
       "      <td>0.324149</td>\n",
       "    </tr>\n",
       "    <tr>\n",
       "      <th>2013-01-05</th>\n",
       "      <td>0.101339</td>\n",
       "      <td>0.508513</td>\n",
       "      <td>2.231774</td>\n",
       "      <td>0.697989</td>\n",
       "    </tr>\n",
       "    <tr>\n",
       "      <th>2013-01-06</th>\n",
       "      <td>0.034484</td>\n",
       "      <td>2.393023</td>\n",
       "      <td>-1.138368</td>\n",
       "      <td>-0.959323</td>\n",
       "    </tr>\n",
       "  </tbody>\n",
       "</table>\n",
       "</div>"
      ],
      "text/plain": [
       "                   A         B         C         D\n",
       "2013-01-01 -0.817309  1.291222  0.140912  0.905228\n",
       "2013-01-02  0.739276  0.261658 -1.062873  0.852905\n",
       "2013-01-03  0.284707 -0.550541  1.500442 -0.199554\n",
       "2013-01-04  0.014254 -0.203678  2.322245  0.324149\n",
       "2013-01-05  0.101339  0.508513  2.231774  0.697989\n",
       "2013-01-06  0.034484  2.393023 -1.138368 -0.959323"
      ]
     },
     "execution_count": 9,
     "metadata": {},
     "output_type": "execute_result"
    }
   ],
   "source": [
    "df"
   ]
  },
  {
   "cell_type": "code",
   "execution_count": 11,
   "id": "53392454",
   "metadata": {},
   "outputs": [
    {
     "name": "stdout",
     "output_type": "stream",
     "text": [
      "{1: 'This', 2: 'is', 3: 'Daiict'}\n"
     ]
    }
   ],
   "source": [
    "Dict=dict({1:'This',2:'is',3:'Daiict'})\n",
    "print(Dict)\n"
   ]
  },
  {
   "cell_type": "code",
   "execution_count": 12,
   "id": "4ccf655b",
   "metadata": {},
   "outputs": [
    {
     "data": {
      "text/plain": [
       "{}"
      ]
     },
     "execution_count": 12,
     "metadata": {},
     "output_type": "execute_result"
    }
   ],
   "source": [
    "Dict={}\n",
    "Dict"
   ]
  },
  {
   "cell_type": "code",
   "execution_count": 13,
   "id": "346898ad",
   "metadata": {},
   "outputs": [
    {
     "name": "stdout",
     "output_type": "stream",
     "text": [
      "[(1, 'for'), (2, 'shekhar')]\n"
     ]
    }
   ],
   "source": [
    "Dict=([(1,'for'),(2,'shekhar')])\n",
    "print(Dict)"
   ]
  },
  {
   "cell_type": "code",
   "execution_count": 16,
   "id": "c63036cf",
   "metadata": {},
   "outputs": [
    {
     "data": {
      "text/html": [
       "<div>\n",
       "<style scoped>\n",
       "    .dataframe tbody tr th:only-of-type {\n",
       "        vertical-align: middle;\n",
       "    }\n",
       "\n",
       "    .dataframe tbody tr th {\n",
       "        vertical-align: top;\n",
       "    }\n",
       "\n",
       "    .dataframe thead th {\n",
       "        text-align: right;\n",
       "    }\n",
       "</style>\n",
       "<table border=\"1\" class=\"dataframe\">\n",
       "  <thead>\n",
       "    <tr style=\"text-align: right;\">\n",
       "      <th></th>\n",
       "      <th>P</th>\n",
       "      <th>Q</th>\n",
       "      <th>R</th>\n",
       "      <th>S</th>\n",
       "    </tr>\n",
       "  </thead>\n",
       "  <tbody>\n",
       "    <tr>\n",
       "      <th>2021-02-01</th>\n",
       "      <td>0.716858</td>\n",
       "      <td>0.025618</td>\n",
       "      <td>0.684291</td>\n",
       "      <td>0.012165</td>\n",
       "    </tr>\n",
       "    <tr>\n",
       "      <th>2021-02-02</th>\n",
       "      <td>0.857853</td>\n",
       "      <td>0.238024</td>\n",
       "      <td>0.900235</td>\n",
       "      <td>0.690936</td>\n",
       "    </tr>\n",
       "    <tr>\n",
       "      <th>2021-02-03</th>\n",
       "      <td>0.536007</td>\n",
       "      <td>0.562080</td>\n",
       "      <td>0.123674</td>\n",
       "      <td>0.920048</td>\n",
       "    </tr>\n",
       "    <tr>\n",
       "      <th>2021-02-04</th>\n",
       "      <td>0.557203</td>\n",
       "      <td>0.889147</td>\n",
       "      <td>0.812458</td>\n",
       "      <td>0.108474</td>\n",
       "    </tr>\n",
       "    <tr>\n",
       "      <th>2021-02-05</th>\n",
       "      <td>0.260297</td>\n",
       "      <td>0.933480</td>\n",
       "      <td>0.028478</td>\n",
       "      <td>0.781803</td>\n",
       "    </tr>\n",
       "    <tr>\n",
       "      <th>2021-02-06</th>\n",
       "      <td>0.209463</td>\n",
       "      <td>0.917319</td>\n",
       "      <td>0.757865</td>\n",
       "      <td>0.212594</td>\n",
       "    </tr>\n",
       "    <tr>\n",
       "      <th>2021-02-07</th>\n",
       "      <td>0.060369</td>\n",
       "      <td>0.313253</td>\n",
       "      <td>0.185531</td>\n",
       "      <td>0.800038</td>\n",
       "    </tr>\n",
       "  </tbody>\n",
       "</table>\n",
       "</div>"
      ],
      "text/plain": [
       "                   P         Q         R         S\n",
       "2021-02-01  0.716858  0.025618  0.684291  0.012165\n",
       "2021-02-02  0.857853  0.238024  0.900235  0.690936\n",
       "2021-02-03  0.536007  0.562080  0.123674  0.920048\n",
       "2021-02-04  0.557203  0.889147  0.812458  0.108474\n",
       "2021-02-05  0.260297  0.933480  0.028478  0.781803\n",
       "2021-02-06  0.209463  0.917319  0.757865  0.212594\n",
       "2021-02-07  0.060369  0.313253  0.185531  0.800038"
      ]
     },
     "execution_count": 16,
     "metadata": {},
     "output_type": "execute_result"
    }
   ],
   "source": [
    "dates=pd.date_range(\"20210201\",periods=7)\n",
    "df=pd.DataFrame(np.random.rand(7,4),index=dates,columns=list(\"PQRS\"))\n",
    "df"
   ]
  },
  {
   "cell_type": "code",
   "execution_count": 17,
   "id": "bb83f7ed",
   "metadata": {},
   "outputs": [
    {
     "data": {
      "text/html": [
       "<div>\n",
       "<style scoped>\n",
       "    .dataframe tbody tr th:only-of-type {\n",
       "        vertical-align: middle;\n",
       "    }\n",
       "\n",
       "    .dataframe tbody tr th {\n",
       "        vertical-align: top;\n",
       "    }\n",
       "\n",
       "    .dataframe thead th {\n",
       "        text-align: right;\n",
       "    }\n",
       "</style>\n",
       "<table border=\"1\" class=\"dataframe\">\n",
       "  <thead>\n",
       "    <tr style=\"text-align: right;\">\n",
       "      <th></th>\n",
       "      <th>P</th>\n",
       "      <th>Q</th>\n",
       "      <th>R</th>\n",
       "      <th>S</th>\n",
       "    </tr>\n",
       "  </thead>\n",
       "  <tbody>\n",
       "    <tr>\n",
       "      <th>2021-02-04</th>\n",
       "      <td>0.557203</td>\n",
       "      <td>0.889147</td>\n",
       "      <td>0.812458</td>\n",
       "      <td>0.108474</td>\n",
       "    </tr>\n",
       "    <tr>\n",
       "      <th>2021-02-05</th>\n",
       "      <td>0.260297</td>\n",
       "      <td>0.933480</td>\n",
       "      <td>0.028478</td>\n",
       "      <td>0.781803</td>\n",
       "    </tr>\n",
       "    <tr>\n",
       "      <th>2021-02-06</th>\n",
       "      <td>0.209463</td>\n",
       "      <td>0.917319</td>\n",
       "      <td>0.757865</td>\n",
       "      <td>0.212594</td>\n",
       "    </tr>\n",
       "    <tr>\n",
       "      <th>2021-02-07</th>\n",
       "      <td>0.060369</td>\n",
       "      <td>0.313253</td>\n",
       "      <td>0.185531</td>\n",
       "      <td>0.800038</td>\n",
       "    </tr>\n",
       "  </tbody>\n",
       "</table>\n",
       "</div>"
      ],
      "text/plain": [
       "                   P         Q         R         S\n",
       "2021-02-04  0.557203  0.889147  0.812458  0.108474\n",
       "2021-02-05  0.260297  0.933480  0.028478  0.781803\n",
       "2021-02-06  0.209463  0.917319  0.757865  0.212594\n",
       "2021-02-07  0.060369  0.313253  0.185531  0.800038"
      ]
     },
     "execution_count": 17,
     "metadata": {},
     "output_type": "execute_result"
    }
   ],
   "source": [
    "df.tail(4)\n"
   ]
  },
  {
   "cell_type": "code",
   "execution_count": 19,
   "id": "3aaae805",
   "metadata": {},
   "outputs": [
    {
     "data": {
      "text/html": [
       "<div>\n",
       "<style scoped>\n",
       "    .dataframe tbody tr th:only-of-type {\n",
       "        vertical-align: middle;\n",
       "    }\n",
       "\n",
       "    .dataframe tbody tr th {\n",
       "        vertical-align: top;\n",
       "    }\n",
       "\n",
       "    .dataframe thead th {\n",
       "        text-align: right;\n",
       "    }\n",
       "</style>\n",
       "<table border=\"1\" class=\"dataframe\">\n",
       "  <thead>\n",
       "    <tr style=\"text-align: right;\">\n",
       "      <th></th>\n",
       "      <th>P</th>\n",
       "      <th>Q</th>\n",
       "      <th>R</th>\n",
       "      <th>S</th>\n",
       "    </tr>\n",
       "  </thead>\n",
       "  <tbody>\n",
       "    <tr>\n",
       "      <th>2021-02-01</th>\n",
       "      <td>0.716858</td>\n",
       "      <td>0.025618</td>\n",
       "      <td>0.684291</td>\n",
       "      <td>0.012165</td>\n",
       "    </tr>\n",
       "    <tr>\n",
       "      <th>2021-02-02</th>\n",
       "      <td>0.857853</td>\n",
       "      <td>0.238024</td>\n",
       "      <td>0.900235</td>\n",
       "      <td>0.690936</td>\n",
       "    </tr>\n",
       "  </tbody>\n",
       "</table>\n",
       "</div>"
      ],
      "text/plain": [
       "                   P         Q         R         S\n",
       "2021-02-01  0.716858  0.025618  0.684291  0.012165\n",
       "2021-02-02  0.857853  0.238024  0.900235  0.690936"
      ]
     },
     "execution_count": 19,
     "metadata": {},
     "output_type": "execute_result"
    }
   ],
   "source": [
    "df.head(2)"
   ]
  },
  {
   "cell_type": "code",
   "execution_count": 20,
   "id": "3e450910",
   "metadata": {},
   "outputs": [
    {
     "data": {
      "text/html": [
       "<div>\n",
       "<style scoped>\n",
       "    .dataframe tbody tr th:only-of-type {\n",
       "        vertical-align: middle;\n",
       "    }\n",
       "\n",
       "    .dataframe tbody tr th {\n",
       "        vertical-align: top;\n",
       "    }\n",
       "\n",
       "    .dataframe thead th {\n",
       "        text-align: right;\n",
       "    }\n",
       "</style>\n",
       "<table border=\"1\" class=\"dataframe\">\n",
       "  <thead>\n",
       "    <tr style=\"text-align: right;\">\n",
       "      <th></th>\n",
       "      <th>P</th>\n",
       "      <th>Q</th>\n",
       "      <th>R</th>\n",
       "      <th>S</th>\n",
       "    </tr>\n",
       "  </thead>\n",
       "  <tbody>\n",
       "    <tr>\n",
       "      <th>2021-02-05</th>\n",
       "      <td>0.260297</td>\n",
       "      <td>0.933480</td>\n",
       "      <td>0.028478</td>\n",
       "      <td>0.781803</td>\n",
       "    </tr>\n",
       "    <tr>\n",
       "      <th>2021-02-06</th>\n",
       "      <td>0.209463</td>\n",
       "      <td>0.917319</td>\n",
       "      <td>0.757865</td>\n",
       "      <td>0.212594</td>\n",
       "    </tr>\n",
       "    <tr>\n",
       "      <th>2021-02-07</th>\n",
       "      <td>0.060369</td>\n",
       "      <td>0.313253</td>\n",
       "      <td>0.185531</td>\n",
       "      <td>0.800038</td>\n",
       "    </tr>\n",
       "  </tbody>\n",
       "</table>\n",
       "</div>"
      ],
      "text/plain": [
       "                   P         Q         R         S\n",
       "2021-02-05  0.260297  0.933480  0.028478  0.781803\n",
       "2021-02-06  0.209463  0.917319  0.757865  0.212594\n",
       "2021-02-07  0.060369  0.313253  0.185531  0.800038"
      ]
     },
     "execution_count": 20,
     "metadata": {},
     "output_type": "execute_result"
    }
   ],
   "source": [
    "df.tail(3)"
   ]
  },
  {
   "cell_type": "code",
   "execution_count": 21,
   "id": "354ed88d",
   "metadata": {},
   "outputs": [
    {
     "data": {
      "text/html": [
       "<div>\n",
       "<style scoped>\n",
       "    .dataframe tbody tr th:only-of-type {\n",
       "        vertical-align: middle;\n",
       "    }\n",
       "\n",
       "    .dataframe tbody tr th {\n",
       "        vertical-align: top;\n",
       "    }\n",
       "\n",
       "    .dataframe thead th {\n",
       "        text-align: right;\n",
       "    }\n",
       "</style>\n",
       "<table border=\"1\" class=\"dataframe\">\n",
       "  <thead>\n",
       "    <tr style=\"text-align: right;\">\n",
       "      <th></th>\n",
       "      <th>P</th>\n",
       "      <th>Q</th>\n",
       "      <th>R</th>\n",
       "      <th>S</th>\n",
       "    </tr>\n",
       "  </thead>\n",
       "  <tbody>\n",
       "    <tr>\n",
       "      <th>2021-02-03</th>\n",
       "      <td>0.536007</td>\n",
       "      <td>0.562080</td>\n",
       "      <td>0.123674</td>\n",
       "      <td>0.920048</td>\n",
       "    </tr>\n",
       "    <tr>\n",
       "      <th>2021-02-04</th>\n",
       "      <td>0.557203</td>\n",
       "      <td>0.889147</td>\n",
       "      <td>0.812458</td>\n",
       "      <td>0.108474</td>\n",
       "    </tr>\n",
       "    <tr>\n",
       "      <th>2021-02-05</th>\n",
       "      <td>0.260297</td>\n",
       "      <td>0.933480</td>\n",
       "      <td>0.028478</td>\n",
       "      <td>0.781803</td>\n",
       "    </tr>\n",
       "    <tr>\n",
       "      <th>2021-02-06</th>\n",
       "      <td>0.209463</td>\n",
       "      <td>0.917319</td>\n",
       "      <td>0.757865</td>\n",
       "      <td>0.212594</td>\n",
       "    </tr>\n",
       "    <tr>\n",
       "      <th>2021-02-07</th>\n",
       "      <td>0.060369</td>\n",
       "      <td>0.313253</td>\n",
       "      <td>0.185531</td>\n",
       "      <td>0.800038</td>\n",
       "    </tr>\n",
       "  </tbody>\n",
       "</table>\n",
       "</div>"
      ],
      "text/plain": [
       "                   P         Q         R         S\n",
       "2021-02-03  0.536007  0.562080  0.123674  0.920048\n",
       "2021-02-04  0.557203  0.889147  0.812458  0.108474\n",
       "2021-02-05  0.260297  0.933480  0.028478  0.781803\n",
       "2021-02-06  0.209463  0.917319  0.757865  0.212594\n",
       "2021-02-07  0.060369  0.313253  0.185531  0.800038"
      ]
     },
     "execution_count": 21,
     "metadata": {},
     "output_type": "execute_result"
    }
   ],
   "source": [
    "df.tail()"
   ]
  },
  {
   "cell_type": "code",
   "execution_count": 23,
   "id": "84b5e15e",
   "metadata": {},
   "outputs": [
    {
     "data": {
      "text/plain": [
       "DatetimeIndex(['2021-02-01', '2021-02-02', '2021-02-03', '2021-02-04',\n",
       "               '2021-02-05', '2021-02-06', '2021-02-07'],\n",
       "              dtype='datetime64[ns]', freq='D')"
      ]
     },
     "execution_count": 23,
     "metadata": {},
     "output_type": "execute_result"
    }
   ],
   "source": [
    "df.index"
   ]
  },
  {
   "cell_type": "code",
   "execution_count": 24,
   "id": "f87e6b25",
   "metadata": {},
   "outputs": [
    {
     "data": {
      "text/plain": [
       "Index(['P', 'Q', 'R', 'S'], dtype='object')"
      ]
     },
     "execution_count": 24,
     "metadata": {},
     "output_type": "execute_result"
    }
   ],
   "source": [
    "df.columns\n"
   ]
  },
  {
   "cell_type": "code",
   "execution_count": null,
   "id": "00c4a928",
   "metadata": {},
   "outputs": [],
   "source": []
  }
 ],
 "metadata": {
  "kernelspec": {
   "display_name": "Python 3 (ipykernel)",
   "language": "python",
   "name": "python3"
  },
  "language_info": {
   "codemirror_mode": {
    "name": "ipython",
    "version": 3
   },
   "file_extension": ".py",
   "mimetype": "text/x-python",
   "name": "python",
   "nbconvert_exporter": "python",
   "pygments_lexer": "ipython3",
   "version": "3.11.1"
  }
 },
 "nbformat": 4,
 "nbformat_minor": 5
}
